{
 "cells": [
  {
   "cell_type": "code",
   "execution_count": 49,
   "metadata": {},
   "outputs": [],
   "source": [
    "import re"
   ]
  },
  {
   "cell_type": "code",
   "execution_count": 43,
   "metadata": {},
   "outputs": [],
   "source": [
    "import requests\n",
    "from bs4 import BeautifulSoup as bs\n",
    "from fake_useragent import UserAgent\n",
    "\n",
    "tmdb_link = \"https://www.themoviedb.org/movie/\"\n",
    "\n",
    "ua = UserAgent()\n",
    "    fake_user_agent = ua.random\n",
    "\n",
    "    # Send the request with the fake user-agent\n",
    "    try:\n",
    "        page = requests.get(link, headers={'User-Agent': fake_user_agent})\n",
    "        page.raise_for_status()  # Check if the request was successful\n",
    "        soup = bs(page.content, 'html.parser')\n",
    "\n",
    "        # Find all elements related to trailers\n",
    "        trailer_elements = soup.fi\n"
   ]
  },
  {
   "cell_type": "code",
   "execution_count": 47,
   "metadata": {},
   "outputs": [
    {
     "data": {
      "text/plain": [
       "[<li class=\"video none flex items-center ml-1\">\n",
       " <a class=\"no_click play_trailer\" data-id=\"NZqFRTbi7IE\" data-site=\"YouTube\" data-title=\"Bande-annonce\" href=\"#\"><span class=\"glyphicons_v2 play\"></span> Bande-annonce</a>\n",
       " </li>]"
      ]
     },
     "execution_count": 47,
     "metadata": {},
     "output_type": "execute_result"
    }
   ],
   "source": [
    "li_elements"
   ]
  },
  {
   "cell_type": "code",
   "execution_count": 50,
   "metadata": {},
   "outputs": [
    {
     "name": "stdout",
     "output_type": "stream",
     "text": [
      "Le data-id extrait est : NZqFRTbi7IE\n"
     ]
    }
   ],
   "source": [
    "# Exemple de chaîne contenant l'HTML\n",
    "html_content = '''<li class=\"video none flex items-center ml-1\">\n",
    " <a class=\"no_click play_trailer\" data-id=\"NZqFRTbi7IE\" data-site=\"YouTube\" data-title=\"Bande-annonce\" href=\"#\"><span class=\"glyphicons_v2 play\"></span> Bande-annonce</a>\n",
    "</li>'''\n",
    "\n",
    "# Regex pour extraire la valeur de data-id\n",
    "pattern = r'data-id=\"([^\"]+)\"'\n",
    "\n",
    "# Rechercher la correspondance\n",
    "match = re.search(pattern, html_content)\n",
    "\n",
    "# Vérifier si une correspondance a été trouvée\n",
    "if match:\n",
    "    data_id = match.group(1)  # Extraire la première correspondance (la valeur de data-id)\n",
    "    print(f\"Le data-id extrait est : {data_id}\")\n",
    "else:\n",
    "    print(\"data-id non trouvé\")"
   ]
  }
 ],
 "metadata": {
  "kernelspec": {
   "display_name": "Python 3",
   "language": "python",
   "name": "python3"
  },
  "language_info": {
   "codemirror_mode": {
    "name": "ipython",
    "version": 3
   },
   "file_extension": ".py",
   "mimetype": "text/x-python",
   "name": "python",
   "nbconvert_exporter": "python",
   "pygments_lexer": "ipython3",
   "version": "3.12.6"
  }
 },
 "nbformat": 4,
 "nbformat_minor": 2
}
